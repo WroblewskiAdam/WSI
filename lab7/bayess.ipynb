{
 "cells": [
  {
   "cell_type": "markdown",
   "metadata": {},
   "source": [
    "# <center> WSI Ćwiczenie nr7 - Implementacja naiwnego klasyfikatora Bayesa</center>\n",
    "\n",
    "### <center> Adam Wróblewski</center>\n",
    "\n",
    "\n",
    "### Cel eksperymentów:\n",
    "Celem eksperymentów jest stworzenie algorytmu naiwnego klasyfikatora Bayessa i zbadanie jakości klasyfikatorów dla zbioru danych Cardio Vascular Disease Detection, a także zbadanie wpływu sposobu podziału na wynik. Zastosowaną zostane 2 metody podziału:\n",
    "\n",
    "1. standardowa - dzielimy zbiór danych na zbiór uczący, walidacyjny, testowy zgodnie z ustalonymi proporcjami.\n",
    "2. k-krotna walidacja krzyżowa."
   ]
  },
  {
   "cell_type": "code",
   "execution_count": 1,
   "metadata": {},
   "outputs": [],
   "source": [
    "import numpy as np\n",
    "import pandas as pd\n",
    "from sklearn.model_selection import train_test_split, cross_val_score\n",
    "import math"
   ]
  },
  {
   "cell_type": "code",
   "execution_count": 2,
   "metadata": {},
   "outputs": [],
   "source": [
    "my_data = pd.read_csv('cardio_train.csv', sep = ';')"
   ]
  },
  {
   "cell_type": "code",
   "execution_count": 4,
   "metadata": {},
   "outputs": [],
   "source": [
    "class NaiveBayes:\n",
    "    def __init__(self, data, class_name):\n",
    "        self.data = data\n",
    "        self.X_data = None\n",
    "        self.Y_data = None\n",
    "        self.class_name = class_name\n",
    "        self.class_values = None\n",
    "\n",
    "\n",
    "        self.mean_variance_dict = {}\n",
    "        self.means = []\n",
    "        self.variances = []\n",
    "        self.aprioris = []\n",
    "        self.get_data(data)\n",
    "        self.calculate_needed_variables()\n",
    "    \n",
    "    def get_data(self, data):\n",
    "        x_data = data.drop(self.class_name, axis=1, inplace=False)\n",
    "        y_data = data[self.class_name]\n",
    "        self.X_data = x_data\n",
    "        self.Y_data = y_data\n",
    "        self.class_values = list(np.unique(y_data))\n",
    "        return x_data, y_data\n",
    "    \n",
    "    def calculate_needed_variables(self):\n",
    "        for i, class_value in enumerate(self.class_values):\n",
    "            data = self.data\n",
    "            X_with_c_v = (data[data[self.class_name] == class_value]).drop(self.class_name, axis=1, inplace=False)\n",
    "\n",
    "            self.means.append(list(X_with_c_v.mean(axis=0)))\n",
    "            self.variances.append(list(X_with_c_v.var(axis=0)))\n",
    "            self.aprioris.append(X_with_c_v.shape[0]/data.shape[0])\n",
    "\n",
    "    def calculate_gauss(self, x, mean, variance):\n",
    "        bias = 1e-5\n",
    "        return (1 / (math.sqrt(2 * math.pi) * variance + bias)) * math.exp(-((x-mean)**2 / (2 * variance**2 + bias)))\n",
    "    \n",
    "    def predict(self, row):\n",
    "        probabilites = {}\n",
    "        for i, class_val in enumerate(self.class_values):\n",
    "            apriori = self.aprioris[i]\n",
    "            probability = apriori\n",
    "            for n, x_val in enumerate(row):\n",
    "                attribute_mean = self.means[i][n]\n",
    "                attribute_variance = self.variances[i][n]\n",
    "                gauss = self.calculate_gauss(x_val, attribute_mean, attribute_variance)\n",
    "                probability = probability * gauss\n",
    "            probabilites[class_val] = probability\n",
    "        \n",
    "        return max(probabilites, key=probabilites.get)\n",
    "\n",
    "\n",
    "    def validate(self, data):\n",
    "        incorrect_predict_count = 0\n",
    "        correct_predict_count = 0\n",
    "\n",
    "        for _, row in data.iterrows():\n",
    "            real_value = row[self.class_name]\n",
    "            row.pop(self.class_name)\n",
    "            row = list(row)\n",
    "            # print(row)\n",
    "            prediction = self.predict(row)\n",
    "            if prediction == real_value:\n",
    "                correct_predict_count += 1\n",
    "            else:\n",
    "                incorrect_predict_count += 1\n",
    "        accuracy = correct_predict_count/(correct_predict_count+incorrect_predict_count)\n",
    "        return accuracy"
   ]
  },
  {
   "cell_type": "code",
   "execution_count": 17,
   "metadata": {},
   "outputs": [],
   "source": [
    "def standard_validation(data, train_factor, validate_factor):\n",
    "    data = data.drop('id', axis=1, inplace=False)\n",
    "    train_data, rest = train_test_split(data, test_size=train_factor, random_state=42)\n",
    "    validate_data, test_data = train_test_split(rest, test_size=validate_factor, random_state=42)\n",
    "    print(\"Podział zbioru: uczący = \", round(1-train_factor, 2),', walidacyjny = ', round(train_factor*(1-validate_factor),2), ', testowy = ', round(train_factor*validate_factor,2))\n",
    "\n",
    "    Classifier = NaiveBayes(train_data,\"cardio\")\n",
    "    validation_score = Classifier.validate(validate_data)\n",
    "    test_score = Classifier.validate(test_data)\n",
    "    print(\"Dokładność dla zbioru walidacyjnego:\", validation_score)\n",
    "    print(\"Dokładność dla zbioru testowego:\", test_score)\n",
    "    print(\" \")"
   ]
  },
  {
   "cell_type": "code",
   "execution_count": 22,
   "metadata": {},
   "outputs": [],
   "source": [
    "def cross_validate(data, k):\n",
    "    data = data.drop('id', axis=1, inplace=False)\n",
    "    splitted = np.array_split(data, k)\n",
    "    scores = []\n",
    "    for i in range(k):\n",
    "        validation_data = splitted[i]\n",
    "        rest = splitted.copy()\n",
    "        rest.pop(i)\n",
    "        train_data = pd.concat(rest)\n",
    "\n",
    "        Classifier = NaiveBayes(train_data,\"cardio\")\n",
    "        score = Classifier.validate(validation_data)\n",
    "        scores.append(score)\n",
    "\n",
    "    print(k, \"-krotna walidacja krzyżwowa:\")\n",
    "    print(\"Dokładność dla zbioru walidacyjnego:\", np.mean(scores))\n",
    "    print(\" \")"
   ]
  },
  {
   "cell_type": "code",
   "execution_count": 25,
   "metadata": {},
   "outputs": [
    {
     "name": "stdout",
     "output_type": "stream",
     "text": [
      "Podział zbioru: uczący =  0.34 , walidacyjny =  0.33 , testowy =  0.33\n",
      "Dokładność dla zbioru walidacyjnego: 0.5612401066946522\n",
      "Dokładność dla zbioru testowego: 0.5619588981198076\n",
      " \n",
      "Podział zbioru: uczący =  0.1 , walidacyjny =  0.45 , testowy =  0.45\n",
      "Dokładność dla zbioru walidacyjnego: 0.5645983645983645\n",
      "Dokładność dla zbioru testowego: 0.5604117232091324\n",
      " \n",
      "Podział zbioru: uczący =  0.3 , walidacyjny =  0.35 , testowy =  0.35\n",
      "Dokładność dla zbioru walidacyjnego: 0.5672232529375386\n",
      "Dokładność dla zbioru testowego: 0.5683542216358839\n",
      " \n",
      "Podział zbioru: uczący =  0.5 , walidacyjny =  0.25 , testowy =  0.25\n",
      "Dokładność dla zbioru walidacyjnego: 0.5682539682539682\n",
      "Dokładność dla zbioru testowego: 0.5651044672746162\n",
      " \n",
      "Podział zbioru: uczący =  0.7 , walidacyjny =  0.15 , testowy =  0.15\n",
      "Dokładność dla zbioru walidacyjnego: 0.5754689754689755\n",
      "Dokładność dla zbioru testowego: 0.5692574066948827\n",
      " \n",
      "Podział zbioru: uczący =  0.9 , walidacyjny =  0.05 , testowy =  0.05\n",
      "Dokładność dla zbioru walidacyjnego: 0.5821067821067821\n",
      "Dokładność dla zbioru testowego: 0.5703981534910559\n",
      " \n",
      "Podział zbioru: uczący =  0.0 , walidacyjny =  0.5 , testowy =  0.5\n",
      "Dokładność dla zbioru walidacyjnego: 0.5295528079500809\n",
      "Dokładność dla zbioru testowego: 0.5298416917032586\n",
      " \n",
      "###\n",
      "Podział zbioru: uczący =  0.34 , walidacyjny =  0.59 , testowy =  0.07\n",
      "Dokładność dla zbioru walidacyjnego: 0.5613020770071663\n",
      "Dokładność dla zbioru testowego: 0.5642763445561871\n",
      " \n",
      "Podział zbioru: uczący =  0.1 , walidacyjny =  0.63 , testowy =  0.27\n",
      "Dokładność dla zbioru walidacyjnego: 0.5640532307198974\n",
      "Dokładność dla zbioru testowego: 0.5588926891834117\n",
      " \n",
      "Podział zbioru: uczący =  0.3 , walidacyjny =  0.35 , testowy =  0.35\n",
      "Dokładność dla zbioru walidacyjnego: 0.5672232529375386\n",
      "Dokładność dla zbioru testowego: 0.5683542216358839\n",
      " \n",
      "Podział zbioru: uczący =  0.5 , walidacyjny =  0.15 , testowy =  0.35\n",
      "Dokładność dla zbioru walidacyjnego: 0.5681577681577682\n",
      "Dokładność dla zbioru testowego: 0.5660455145118733\n",
      " \n",
      "Podział zbioru: uczący =  0.7 , walidacyjny =  0.03 , testowy =  0.27\n",
      "Dokładność dla zbioru walidacyjnego: 0.5757575757575758\n",
      "Dokładność dla zbioru testowego: 0.571985891406584\n",
      " \n"
     ]
    }
   ],
   "source": [
    "standard_validation(my_data, 0.66, 0.5)\n",
    "standard_validation(my_data, 0.9, 0.5)\n",
    "standard_validation(my_data, 0.7, 0.5)\n",
    "standard_validation(my_data, 0.5, 0.5)\n",
    "standard_validation(my_data, 0.3, 0.5)\n",
    "standard_validation(my_data, 0.1, 0.5)\n",
    "standard_validation(my_data, 0.999, 0.5)\n",
    "print(\"###\")\n",
    "standard_validation(my_data, 0.66, 0.1)\n",
    "standard_validation(my_data, 0.9, 0.3)\n",
    "standard_validation(my_data, 0.7, 0.5)\n",
    "standard_validation(my_data, 0.5, 0.7)\n",
    "standard_validation(my_data, 0.3, 0.9)"
   ]
  },
  {
   "cell_type": "code",
   "execution_count": 24,
   "metadata": {},
   "outputs": [
    {
     "name": "stdout",
     "output_type": "stream",
     "text": [
      "3 -krotna walidacja krzyżwowa:\n",
      "Dokładność dla zbioru walidacyjnego: 0.5748257370091923\n",
      " \n",
      "4 -krotna walidacja krzyżwowa:\n",
      "Dokładność dla zbioru walidacyjnego: 0.5752009749712623\n",
      " \n",
      "5 -krotna walidacja krzyżwowa:\n",
      "Dokładność dla zbioru walidacyjnego: 0.5763697816904656\n",
      " \n",
      "6 -krotna walidacja krzyżwowa:\n",
      "Dokładność dla zbioru walidacyjnego: 0.5772355860071209\n",
      " \n",
      "7 -krotna walidacja krzyżwowa:\n",
      "Dokładność dla zbioru walidacyjnego: 0.5762687839043762\n",
      " \n",
      "8 -krotna walidacja krzyżwowa:\n",
      "Dokładność dla zbioru walidacyjnego: 0.5756480678169802\n",
      " \n"
     ]
    }
   ],
   "source": [
    "cross_validate(my_data, 3)\n",
    "cross_validate(my_data, 4)\n",
    "cross_validate(my_data, 5)\n",
    "cross_validate(my_data, 6)\n",
    "cross_validate(my_data, 7)\n",
    "cross_validate(my_data, 8)"
   ]
  },
  {
   "cell_type": "markdown",
   "metadata": {},
   "source": [
    "### Wnioski\n",
    "Algorytm naiwnej klasyfikacji Bayesa jest to klasyfikator probabilistyczny stosunkowo prosty i szybki w implementacji. Jego główną wadą a jednocześnie podstawą działania jest to że działa w oparciu o założenie niezależności poszczególnych cech/predykatów.\n",
    "\n",
    "W wyniku tego klasyfikatora, niezależnie od podziału zbioru danych na zbiory uczący, walidacyjny, testowy otrzymywałem bardzo zbliżone rezultaty działania - ok 0.56-0.57 dokładności. Jedynie w przypadku bardzo małej ilości danych uczących - 0.001% wszystkich danych (ok 60 próbek) obserwujemy dość znaczący spadek w dokładności - ok. 52%.\n",
    "\n",
    "Wprowadzenie k-walidacji krzyżowej nie zmieniło dokładności uzyskiwanej klasyfikacji i wciąż pozostawała ona na sałym poziomie ok. 0,57.\n",
    "\n",
    "Mimo dość niskiej dokładności klasyfikacji (warto wziąć pod uwagę że nasza klasa jest daną binarną - jest choroba lub jej nie ma, działanie klasyfikatora jest niemalże losowe) naiwny klasyfikator Bayesa działa bardzo szybko nawet z dużą ilością danych, i nie wymaga dużych zasobów.\n"
   ]
  }
 ],
 "metadata": {
  "kernelspec": {
   "display_name": "Python 3 (ipykernel)",
   "language": "python",
   "name": "python3"
  },
  "language_info": {
   "codemirror_mode": {
    "name": "ipython",
    "version": 3
   },
   "file_extension": ".py",
   "mimetype": "text/x-python",
   "name": "python",
   "nbconvert_exporter": "python",
   "pygments_lexer": "ipython3",
   "version": "3.9.12"
  },
  "vscode": {
   "interpreter": {
    "hash": "88279d2366fe020547cde40dd65aa0e3aa662a6ec1f3ca12d88834876c85e1a6"
   }
  }
 },
 "nbformat": 4,
 "nbformat_minor": 2
}
